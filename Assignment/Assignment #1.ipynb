{
 "cells": [
  {
   "cell_type": "code",
   "execution_count": 13,
   "id": "b73766bd",
   "metadata": {},
   "outputs": [
    {
     "name": "stdout",
     "output_type": "stream",
     "text": [
      "Twinkle,twinkle,little,star\n"
     ]
    }
   ],
   "source": [
    "print(\"Twinkle,twinkle,little,star\")"
   ]
  },
  {
   "cell_type": "code",
   "execution_count": 14,
   "id": "c261c417",
   "metadata": {},
   "outputs": [
    {
     "name": "stdout",
     "output_type": "stream",
     "text": [
      "How I wonder what you are\n"
     ]
    }
   ],
   "source": [
    "print(\"How I wonder what you are\")"
   ]
  },
  {
   "cell_type": "code",
   "execution_count": 15,
   "id": "6bc0b4eb",
   "metadata": {},
   "outputs": [
    {
     "name": "stdout",
     "output_type": "stream",
     "text": [
      "Up above the world so high\n"
     ]
    }
   ],
   "source": [
    "print(\"Up above the world so high\")"
   ]
  },
  {
   "cell_type": "code",
   "execution_count": 16,
   "id": "f97cdf4f",
   "metadata": {},
   "outputs": [
    {
     "name": "stdout",
     "output_type": "stream",
     "text": [
      "Like a diamond in the sky\n"
     ]
    }
   ],
   "source": [
    "print(\"Like a diamond in the sky\")"
   ]
  },
  {
   "cell_type": "code",
   "execution_count": 17,
   "id": "b912de5f",
   "metadata": {},
   "outputs": [
    {
     "name": "stdout",
     "output_type": "stream",
     "text": [
      "Twinkle, twinkle, little star\n"
     ]
    }
   ],
   "source": [
    "print(\"Twinkle, twinkle, little star\")"
   ]
  },
  {
   "cell_type": "code",
   "execution_count": 18,
   "id": "5127d863",
   "metadata": {},
   "outputs": [
    {
     "name": "stdout",
     "output_type": "stream",
     "text": [
      "How I wonder what you are\n"
     ]
    }
   ],
   "source": [
    "print(\"How I wonder what you are\")"
   ]
  },
  {
   "cell_type": "code",
   "execution_count": 19,
   "id": "732b5aa9",
   "metadata": {},
   "outputs": [
    {
     "name": "stdout",
     "output_type": "stream",
     "text": [
      "i am using python 3\n"
     ]
    }
   ],
   "source": [
    "print(\"i am using python 3\")"
   ]
  },
  {
   "cell_type": "code",
   "execution_count": 1,
   "id": "b9943c33",
   "metadata": {},
   "outputs": [
    {
     "name": "stdout",
     "output_type": "stream",
     "text": [
      "03012022\n"
     ]
    }
   ],
   "source": [
    "import datetime\n",
    "TodayDate = datetime.datetime.now()\n",
    "Year = TodayDate.strftime(\"%Y\")\n",
    "Month = TodayDate.strftime(\"%m\")\n",
    "Day = TodayDate.strftime(\"%d\")\n",
    "FormattedDate = Day + Month + Year\n",
    "print(FormattedDate)"
   ]
  },
  {
   "cell_type": "code",
   "execution_count": 2,
   "id": "8937830d",
   "metadata": {},
   "outputs": [
    {
     "name": "stdout",
     "output_type": "stream",
     "text": [
      "Enter your First NameMuhammad\n",
      "Enter your Last NmaeZohaib\n",
      "Hello:Zohaib Muhammad\n"
     ]
    }
   ],
   "source": [
    "firstName = input(\"Enter your First Name\")\n",
    "lastName = input(\"Enter your Last Nmae\")\n",
    "print(\"Hello:\" + lastName + \" \" + firstName)"
   ]
  },
  {
   "cell_type": "code",
   "execution_count": null,
   "id": "3a990cae",
   "metadata": {},
   "outputs": [],
   "source": []
  }
 ],
 "metadata": {
  "kernelspec": {
   "display_name": "Python 3 (ipykernel)",
   "language": "python",
   "name": "python3"
  },
  "language_info": {
   "codemirror_mode": {
    "name": "ipython",
    "version": 3
   },
   "file_extension": ".py",
   "mimetype": "text/x-python",
   "name": "python",
   "nbconvert_exporter": "python",
   "pygments_lexer": "ipython3",
   "version": "3.9.7"
  }
 },
 "nbformat": 4,
 "nbformat_minor": 5
}
